{
 "metadata": {
  "name": "",
  "signature": "sha256:b973fffa0c83b3212cde027e50db197733676e793e3175a1c802ce3417da3532"
 },
 "nbformat": 3,
 "nbformat_minor": 0,
 "worksheets": [
  {
   "cells": [
    {
     "cell_type": "heading",
     "level": 1,
     "metadata": {},
     "source": [
      "Hamilton Jacobi Bellman Equation"
     ]
    },
    {
     "cell_type": "markdown",
     "metadata": {},
     "source": [
      "From Bellman's principle of optimality, we can derive the continuous version of Bellman's equation, the Hamilton Jacobi Bellman equation. We start by defining the cost-to-go function $V(x(t), t)$.\n",
      "\n",
      "$$ V(x(t), t) = \\min_{u \\in U} \\left( \\int_t^T C(x(t), u(t)) dt  + D(x(T))\\right) $$\n",
      "with the constraint $ \\frac{d x(t)}{dt} = F(x(t),u(t))$\n",
      "and terminal condition $V(x(T), T) = D(x(T))$"
     ]
    },
    {
     "cell_type": "markdown",
     "metadata": {},
     "source": [
      "Now we use Bellman's principle of optimality:\n",
      "\n",
      "$$V(x(t), t ) = \\min_{u \\in U} \\left( \\int_t^{\\Delta t} C(x(t), u(t)) dt + \\min_{u \\in U} \\left( \\int_{t + \\Delta t}^T C(x(t), u(t)) dt  + D(x(T))\\right) \\right) $$"
     ]
    },
    {
     "cell_type": "markdown",
     "metadata": {},
     "source": [
      "This is a recursive function as before.\n",
      "\n",
      "$$V(x(t), t) = \\min_{u \\in U} \\left( \\int_t^{\\Delta t} C(x(t), u(t)) dt + V(x(t+\\Delta t), t + \\Delta t)\\right) $$"
     ]
    },
    {
     "cell_type": "markdown",
     "metadata": {},
     "source": [
      "Now, approximating the integral using a Taylor series expansion:\n",
      "$$V(x(t), t) = \\min_{u \\in U} \\left(  C(x(t), u(t)) \\Delta t + V(x(t), t) + \\frac{\\partial V(x(t), t) }{\\partial t} \\Delta t  + \\frac{\\partial V(x(t), t)}{\\partial x}  \\frac{dx}{dt} \\Delta t  \\right) $$\n",
      "\n",
      "which when we substitute the dynamics constraint simplifies to the standard form of the Hamilton Jacobi Bellman equation:\n",
      "\n",
      "$$-\\frac{\\partial V(x(t), t) }{\\partial t} = \\min_{u \\in U} \\left(  C(x(t), u(t))  + \\nabla V(x(t), t) \\cdot F(x(t), u(t)) \\right)$$"
     ]
    },
    {
     "cell_type": "markdown",
     "metadata": {},
     "source": [
      "This can be solved backward in time using the terminal condition:\n",
      "$$V(x, T) = D(x)$$"
     ]
    },
    {
     "cell_type": "heading",
     "level": 2,
     "metadata": {},
     "source": [
      "LQG Example"
     ]
    },
    {
     "cell_type": "markdown",
     "metadata": {},
     "source": [
      "$$F(x(t), u(t)) = \\frac{dx(t)}{dt} = a x(t) + b u(t) + \\sigma \\frac{dw(t)}{dt}$$\n",
      "\n",
      "$$C(x(t), u(t)) = r(t) u_t^2/2 + q(t) x_t^2/2$$"
     ]
    },
    {
     "cell_type": "markdown",
     "metadata": {},
     "source": [
      "$$-\\frac{\\partial V(x(t), t) }{\\partial t} = \\min_{u \\in U} \\left(  r(t) u(t)^2/2 + q(t) x_t^2/2 + \\frac{\\partial V(x(t), t)}{\\partial x} \\left(a x_t + b u(t) + \\sigma \\frac{dw(t)}{dt} \\right)\\right)$$"
     ]
    },
    {
     "cell_type": "markdown",
     "metadata": {},
     "source": [
      "We can talke the derivative of the expression with respect to $u$ to find the minimum:\n",
      "\n",
      "$$r(t)u(t) + \\frac{\\partial V(x(t), t)}{\\partial x} b = 0$$\n",
      "\n",
      "$$u(t) = - \\frac{\\partial V(x(t), t)}{\\partial x} \\frac{b}{r(t)}$$"
     ]
    },
    {
     "cell_type": "markdown",
     "metadata": {},
     "source": [
      "Substituting the minimum expression back into the HJB equatioin we obtain:\n",
      "\n",
      "$$-\\frac{\\partial V(x(t), t) }{\\partial t} = \\left(\\frac{\\partial V(x(t), t)}{\\partial x}\\right)^2 \\frac{b^2}{2 r(t)}  + \\frac{q(t) x(t)^2}{2} + \\frac{\\partial V(x(t), t)}{\\partial x} \\left(a x(t) - \\frac{\\partial V(x(t), t)}{\\partial x} \\frac{b^2}{r(t)} +  \\frac{\\partial}{\\partial x} \\sigma \\right)$$"
     ]
    },
    {
     "cell_type": "markdown",
     "metadata": {},
     "source": [
      "Which simplifies to:\n",
      "$$-\\frac{\\partial V(x(t), t) }{\\partial t} = \\frac{q(t) x(t)^2}{2} + \\frac{\\partial V(x(t), t)}{\\partial x} a x_t - \\left(\\frac{\\partial V(x(t), t)}{\\partial x}\\right)^2 \\frac{b^2}{2 r(t)}   + \\frac{\\partial^2 V(x(t), t)}{\\partial x^2}  \\sigma $$"
     ]
    },
    {
     "cell_type": "markdown",
     "metadata": {},
     "source": [
      "It is not clear how $E[ \\sigma ]$."
     ]
    }
   ],
   "metadata": {}
  }
 ]
}