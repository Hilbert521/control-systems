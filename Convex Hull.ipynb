{
 "metadata": {
  "name": "",
  "signature": "sha256:e46c4ad08d115a43af2afe57c515c251835f92dfe25b1046b75eb1d0597e49e3"
 },
 "nbformat": 3,
 "nbformat_minor": 0,
 "worksheets": [
  {
   "cells": [
    {
     "cell_type": "code",
     "collapsed": false,
     "input": [
      "%pylab inline\n",
      "import pyhull\n",
      "import string"
     ],
     "language": "python",
     "metadata": {},
     "outputs": [
      {
       "output_type": "stream",
       "stream": "stdout",
       "text": [
        "Populating the interactive namespace from numpy and matplotlib\n"
       ]
      }
     ],
     "prompt_number": 1
    },
    {
     "cell_type": "code",
     "collapsed": false,
     "input": [
      "class MyConvexHull(object):\n",
      "    \n",
      "    def __init__(self, res=None, n_dim=None, n_eqs=None, eqs=None, n_points=None, points=None):\n",
      "        self.res = res\n",
      "        self.n_dim = n_dim\n",
      "        self.n_eqs = n_eqs\n",
      "        self.eqs = eqs\n",
      "        self.n_points = n_points\n",
      "        self.points = points\n",
      "\n",
      "    @classmethod\n",
      "    def from_points(cls, points):\n",
      "        res = pyhull.qconvex('n p', points)\n",
      "        n_dim = int(res[0])-1\n",
      "        n_eqs = int(res[1])\n",
      "        eqs = array([line.split(' ') for line in res[2:2+n_eqs]]).astype(float)\n",
      "        n_dim2 = int(res[2+n_eqs])\n",
      "        n_points = int(res[3+n_eqs])\n",
      "        points = array([line.split(' ') for line in res[4+n_eqs:4+n_eqs+n_points]]).astype(float)\n",
      "        return cls(res, n_dim, n_eqs, eqs, n_points, points)\n",
      "    \n",
      "    @classmethod\n",
      "    def from_halfspaces(cls, interior_point, halfspaces):\n",
      "        res = pyhull.qhull_cmd('qhalf', 'H0,0 Fp', halfspaces)\n",
      "        n_dim = int(res[0])\n",
      "        n_vert = int(res[1])\n",
      "        points = array([line.split(' ') for line in res[2:2+n_vert]]).astype(float)\n",
      "        return cls.from_points(points)\n",
      "    \n",
      "    def add_buffer(self, b):\n",
      "        self.eqs[:,-1] -= b\n",
      "        return MyConvexHull.from_halfspaces(self.eqs)\n",
      "        \n",
      "    def __repr__(self):\n",
      "        return string.join(self.res, '\\n')\n",
      "    \n",
      "    def contains(self, p):\n",
      "        return False\n",
      "\n",
      "p = rand(30,2)\n",
      "p[:,0] += -0.5\n",
      "p[:,1] += -0.5\n",
      "        \n",
      "ch1 = MyConvexHull.from_points(p)\n",
      "ch2 = ch1.add_buffer(0.1)"
     ],
     "language": "python",
     "metadata": {},
     "outputs": [],
     "prompt_number": 11
    },
    {
     "cell_type": "code",
     "collapsed": false,
     "input": [
      "plot(p[:,0], p[:,1], '.')\n",
      "plot(ch1.points[:,0], ch1.points[:,1],'*')\n",
      "plot(ch2.points[:,0], ch2.points[:,1],'*')"
     ],
     "language": "python",
     "metadata": {},
     "outputs": [
      {
       "metadata": {},
       "output_type": "pyout",
       "prompt_number": 10,
       "text": [
        "[<matplotlib.lines.Line2D at 0x2f27850>]"
       ]
      },
      {
       "metadata": {},
       "output_type": "display_data",
       "png": "[encoded data removed]",
       "text": [
        "<matplotlib.figure.Figure at 0x2c06b90>"
       ]
      }
     ],
     "prompt_number": 10
    },
    {
     "cell_type": "code",
     "collapsed": false,
     "input": [
      "p = rand(5, 2)\n",
      "\n",
      "ch = ConvexHull(p)\n",
      "ch_points = array([ch.points[v] for v in ch.vertices])\n",
      "s = Simplex(ch_points)\n",
      "print s\n",
      "print ch.vertices\n",
      "\n",
      "print p.shape\n",
      "print ch_points.shape\n",
      "\n",
      "plot(p, 'o')\n",
      "\n",
      "plot(ch_points,'*')\n",
      "ch\n",
      "#s.in_simplex([1,1])"
     ],
     "language": "python",
     "metadata": {},
     "outputs": [
      {
       "ename": "NameError",
       "evalue": "name 'ConvexHull' is not defined",
       "output_type": "pyerr",
       "traceback": [
        "\u001b[1;31m---------------------------------------------------------------------------\u001b[0m\n\u001b[1;31mNameError\u001b[0m                                 Traceback (most recent call last)",
        "\u001b[1;32m<ipython-input-6-d4ef43907fdb>\u001b[0m in \u001b[0;36m<module>\u001b[1;34m()\u001b[0m\n\u001b[0;32m      1\u001b[0m \u001b[0mp\u001b[0m \u001b[1;33m=\u001b[0m \u001b[0mrand\u001b[0m\u001b[1;33m(\u001b[0m\u001b[1;36m5\u001b[0m\u001b[1;33m,\u001b[0m \u001b[1;36m2\u001b[0m\u001b[1;33m)\u001b[0m\u001b[1;33m\u001b[0m\u001b[0m\n\u001b[0;32m      2\u001b[0m \u001b[1;33m\u001b[0m\u001b[0m\n\u001b[1;32m----> 3\u001b[1;33m \u001b[0mch\u001b[0m \u001b[1;33m=\u001b[0m \u001b[0mConvexHull\u001b[0m\u001b[1;33m(\u001b[0m\u001b[0mp\u001b[0m\u001b[1;33m)\u001b[0m\u001b[1;33m\u001b[0m\u001b[0m\n\u001b[0m\u001b[0;32m      4\u001b[0m \u001b[0mch_points\u001b[0m \u001b[1;33m=\u001b[0m \u001b[0marray\u001b[0m\u001b[1;33m(\u001b[0m\u001b[1;33m[\u001b[0m\u001b[0mch\u001b[0m\u001b[1;33m.\u001b[0m\u001b[0mpoints\u001b[0m\u001b[1;33m[\u001b[0m\u001b[0mv\u001b[0m\u001b[1;33m]\u001b[0m \u001b[1;32mfor\u001b[0m \u001b[0mv\u001b[0m \u001b[1;32min\u001b[0m \u001b[0mch\u001b[0m\u001b[1;33m.\u001b[0m\u001b[0mvertices\u001b[0m\u001b[1;33m]\u001b[0m\u001b[1;33m)\u001b[0m\u001b[1;33m\u001b[0m\u001b[0m\n\u001b[0;32m      5\u001b[0m \u001b[0ms\u001b[0m \u001b[1;33m=\u001b[0m \u001b[0mSimplex\u001b[0m\u001b[1;33m(\u001b[0m\u001b[0mch_points\u001b[0m\u001b[1;33m)\u001b[0m\u001b[1;33m\u001b[0m\u001b[0m\n",
        "\u001b[1;31mNameError\u001b[0m: name 'ConvexHull' is not defined"
       ]
      }
     ],
     "prompt_number": 6
    },
    {
     "cell_type": "code",
     "collapsed": false,
     "input": [
      "array([ch.points[v] for v in ch.vertices])"
     ],
     "language": "python",
     "metadata": {},
     "outputs": [
      {
       "metadata": {},
       "output_type": "pyout",
       "prompt_number": 67,
       "text": [
        "array([[[ 0.20879015,  0.29931267],\n",
        "        [ 0.78838777,  0.89334567]],\n",
        "\n",
        "       [[ 0.33348514,  0.73027661],\n",
        "        [ 0.20879015,  0.29931267]],\n",
        "\n",
        "       [[ 0.78838777,  0.89334567],\n",
        "        [ 0.33348514,  0.73027661]]])"
       ]
      }
     ],
     "prompt_number": 67
    },
    {
     "cell_type": "code",
     "collapsed": false,
     "input": [
      "ch.vertices"
     ],
     "language": "python",
     "metadata": {},
     "outputs": [
      {
       "metadata": {},
       "output_type": "pyout",
       "prompt_number": 68,
       "text": [
        "[[2, 0], [1, 2], [0, 1]]"
       ]
      }
     ],
     "prompt_number": 68
    },
    {
     "cell_type": "code",
     "collapsed": false,
     "input": [],
     "language": "python",
     "metadata": {},
     "outputs": []
    }
   ],
   "metadata": {}
  }
 ]
}