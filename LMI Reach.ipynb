{
 "metadata": {
  "name": "",
  "signature": "sha256:c83eebdf297bbef6e8f60b9d338198f4d0e901809feb95008cacb24d85dfc12f"
 },
 "nbformat": 3,
 "nbformat_minor": 0,
 "worksheets": [
  {
   "cells": [
    {
     "cell_type": "code",
     "collapsed": false,
     "input": [
      "%pylab inline\n",
      "import control\n",
      "import pyhull\n",
      "import string"
     ],
     "language": "python",
     "metadata": {},
     "outputs": [
      {
       "output_type": "stream",
       "stream": "stdout",
       "text": [
        "Populating the interactive namespace from numpy and matplotlib\n"
       ]
      },
      {
       "output_type": "stream",
       "stream": "stderr",
       "text": [
        "WARNING: pylab import has clobbered these variables: ['gamma', 'beta', 'sys']\n",
        "`%matplotlib` prevents importing * from pylab and numpy\n"
       ]
      }
     ],
     "prompt_number": 219
    },
    {
     "cell_type": "markdown",
     "metadata": {},
     "source": [
      "# LMI"
     ]
    },
    {
     "cell_type": "code",
     "collapsed": false,
     "input": [
      "A = array([[0, 1],\n",
      "           [-1,-1]])\n",
      "B = array([[0],\n",
      "           [1]])\n",
      "Ab = bmat([[A, zeros((2,2))],\n",
      "           [zeros((2,2)), A]])\n",
      "Bb = bmat([[B],\n",
      "           [zeros((2,1))]])\n",
      "Cb = array([\n",
      "[1, 0, -1, 0],\n",
      "[0, 1, 0, -1]])\n",
      "Db = zeros((2,1))\n",
      "sys = control.ss(Ab, Bb, Cb, Db)\n",
      "sys"
     ],
     "language": "python",
     "metadata": {},
     "outputs": [
      {
       "metadata": {},
       "output_type": "pyout",
       "prompt_number": 225,
       "text": [
        "A = [[ 0.  1.  0.  0.]\n",
        " [-1. -1.  0.  0.]\n",
        " [ 0.  0.  0.  1.]\n",
        " [ 0.  0. -1. -1.]]\n",
        "\n",
        "B = [[ 0.]\n",
        " [ 1.]\n",
        " [ 0.]\n",
        " [ 0.]]\n",
        "\n",
        "C = [[ 1  0 -1  0]\n",
        " [ 0  1  0 -1]]\n",
        "\n",
        "D = [[ 0.]\n",
        " [ 0.]]"
       ]
      }
     ],
     "prompt_number": 225
    },
    {
     "cell_type": "code",
     "collapsed": false,
     "input": [
      "eig(A)"
     ],
     "language": "python",
     "metadata": {},
     "outputs": [
      {
       "metadata": {},
       "output_type": "pyout",
       "prompt_number": 226,
       "text": [
        "(array([-0.5+0.8660254j, -0.5-0.8660254j]),\n",
        " array([[ 0.70710678+0.j        ,  0.70710678-0.j        ],\n",
        "        [-0.35355339+0.61237244j, -0.35355339-0.61237244j]]))"
       ]
      }
     ],
     "prompt_number": 226
    },
    {
     "cell_type": "code",
     "collapsed": false,
     "input": [
      "%pylab inline\n",
      "import picos as pic\n",
      "import cvxopt as cvx\n",
      "import numpy as np\n",
      "import scipy.linalg\n",
      "import scipy.optimize\n",
      "import scipy.integrate\n",
      "def solve_bounded_disturbance(A, B, C, D):\n",
      "    \n",
      "    def solve_lmi(A_data, B_data, C_data, D_data, alpha, verbose=False):\n",
      "        sdp = pic.Problem()\n",
      "\n",
      "        # shape\n",
      "        n_x = A_data.shape[0]\n",
      "        n_u = B_data.shape[1]\n",
      "        \n",
      "        # variables\n",
      "        P = sdp.add_variable('P', (n_x, n_x), vtype='symmetric')\n",
      "        alpha = pic.new_param('alpha', alpha)\n",
      "        mu_1 = sdp.add_variable('mu_1')\n",
      "        mu_2 = sdp.add_variable('mu_2')\n",
      "\n",
      "        # parameters\n",
      "        A = pic.new_param('A', cvx.matrix(A_data))\n",
      "        B = pic.new_param('B', cvx.matrix(B_data))\n",
      "        C = pic.new_param('C', cvx.matrix(C_data))\n",
      "        D = pic.new_param('D', cvx.matrix(D_data))\n",
      "        I_n_u = pic.new_param('I', cvx.sparse(cvx.matrix(np.eye(n_u))))\n",
      "        I_n_x = pic.new_param('I', cvx.sparse(cvx.matrix(np.eye(n_x))))\n",
      "\n",
      "        eps = 1e-10\n",
      "        sdp.add_constraint(\n",
      "            (P*A + A.T*P + 2*alpha*P & P*B) //\n",
      "            (B.T*P &  -2*alpha*mu_1*I_n_u)  << -eps)\n",
      "        sdp.add_constraint(\n",
      "            (C.T*C - P & C.T*D) //\n",
      "            (D.T*C & D.T*D - mu_2*I_n_u)  << -eps)\n",
      "        sdp.add_constraint(P >> eps*I_n_x)\n",
      "        sdp.add_constraint(mu_1 >> eps)\n",
      "        sdp.add_constraint(mu_2 >> eps)\n",
      "        sdp.set_objective('min', mu_1 + mu_2)\n",
      "        try:\n",
      "            sdp.solve(verbose=verbose)\n",
      "            mu_1 =  sdp.variables['mu_1'].value[0,0]\n",
      "            mu_2 =  sdp.variables['mu_2'].value[0,0]\n",
      "            gamma = np.sqrt(mu_1 + mu_2)\n",
      "        except Exception as e:\n",
      "            print e\n",
      "            gamma = -1\n",
      "            \n",
      "        return gamma, sdp\n",
      "    \n",
      "    # we use fmin to solve a line search problem in alpha for minimum gamma\n",
      "    print('line search')\n",
      "    alpha_opt  = scipy.optimize.fmin(lambda alpha: solve_lmi(A, B, C, D, alpha)[0], x0=0.01)\n",
      "    \n",
      "    gamma, sdp = solve_lmi(A, B, C, D, alpha_opt)\n",
      "    print sdp\n",
      "    \n",
      "    if sdp.status == 'optimal':\n",
      "        P = sdp.variables['P'].value\n",
      "        mu_1 =  sdp.variables['mu_1'].value[0,0]\n",
      "        mu_2 =  sdp.variables['mu_2'].value[0,0]\n",
      "        print 'optimal alpha: ', alpha_opt\n",
      "        print 'gamma: ', gamma\n",
      "        print 'mu_1: ', mu_1\n",
      "        print 'mu_2: ', mu_2\n",
      "        print 'P: ',  P\n",
      "    else:\n",
      "        sdp = solve_lmi(A, B, C, D, alpha_opt, verbose=True)\n",
      "        raise RuntimeError('Optimization failed')\n",
      "        \n",
      "    return sdp, P, alpha_opt, gamma"
     ],
     "language": "python",
     "metadata": {},
     "outputs": [
      {
       "output_type": "stream",
       "stream": "stdout",
       "text": [
        "Populating the interactive namespace from numpy and matplotlib\n"
       ]
      },
      {
       "output_type": "stream",
       "stream": "stderr",
       "text": [
        "WARNING: pylab import has clobbered these variables: ['gamma', 'sys']\n",
        "`%matplotlib` prevents importing * from pylab and numpy\n"
       ]
      }
     ],
     "prompt_number": 227
    },
    {
     "cell_type": "code",
     "collapsed": false,
     "input": [
      "sdp, P, alpha_opt, gamma = solve_bounded_disturbance(Ab, Bb, Cb, Db)"
     ],
     "language": "python",
     "metadata": {},
     "outputs": [
      {
       "output_type": "stream",
       "stream": "stdout",
       "text": [
        "line search\n",
        "Optimization terminated successfully."
       ]
      },
      {
       "output_type": "stream",
       "stream": "stdout",
       "text": [
        "\n",
        "         Current function value: 1.687567\n",
        "         Iterations: 19\n",
        "         Function evaluations: 38\n",
        "---------------------\n",
        "optimization problem  (SDP):\n",
        "12 variables, 0 affine constraints, 42 vars in 5 SD cones\n",
        "\n",
        "P \t: (4, 4), symmetric\n",
        "mu_2 \t: (1, 1), continuous\n",
        "mu_1 \t: (1, 1), continuous\n",
        "\n",
        "\tminimize mu_1 + mu_2\n",
        "such that\n",
        "  [P*A + A.T*P + 2.0*alpha*P,P*B;B.T*P,( ( ( -2.0 )*alpha )*mu_1 )*I] \u227c |-1e-10|\n",
        "  [C.T*C -P,C.T*D;D.T*C,D.T*D -mu_2*I] \u227c |-1e-10|\n",
        "  P \u227d ( 1e-10 )*I\n",
        "  mu_1 \u227d 1e-10\n",
        "  mu_2 \u227d 1e-10\n",
        "---------------------\n",
        "optimal alpha:  [ 0.20525]\n",
        "gamma:  1.68756728644\n",
        "mu_1:  2.84788334289\n",
        "mu_2:  3.37668847134e-09\n",
        "P:  [ 1.21e+00  2.83e-01 -1.21e+00 -2.83e-01]\n",
        "[ 2.83e-01  1.38e+00 -2.83e-01 -1.38e+00]\n",
        "[-1.21e+00 -2.83e-01  5.55e+00  1.89e+00]\n",
        "[-2.83e-01 -1.38e+00  1.89e+00  5.02e+00]\n",
        "\n"
       ]
      }
     ],
     "prompt_number": 223
    },
    {
     "cell_type": "code",
     "collapsed": false,
     "input": [
      "x0 = array([1, 1, 0, 0]).T\n",
      "beta = x0.T.dot(P).dot(x0)\n",
      "beta, alpha_opt"
     ],
     "language": "python",
     "metadata": {},
     "outputs": [
      {
       "metadata": {},
       "output_type": "pyout",
       "prompt_number": 214,
       "text": [
        "(3.1556641988138474, array([ 0.20525]))"
       ]
      }
     ],
     "prompt_number": 214
    },
    {
     "cell_type": "code",
     "collapsed": false,
     "input": [
      "t = linspace(0,20)\n",
      "plot(t, beta*exp(-alpha_opt*t) + gamma)\n",
      "plot(t, -beta*exp(-alpha_opt*t) - gamma)"
     ],
     "language": "python",
     "metadata": {},
     "outputs": [
      {
       "metadata": {},
       "output_type": "pyout",
       "prompt_number": 215,
       "text": [
        "[<matplotlib.lines.Line2D at 0x3b06e50>]"
       ]
      },
      {
       "metadata": {},
       "output_type": "display_data",
       "png": "[encoded data removed]",
       "text": [
        "<matplotlib.figure.Figure at 0x3b06ad0>"
       ]
      }
     ],
     "prompt_number": 215
    },
    {
     "cell_type": "markdown",
     "metadata": {},
     "source": [
      "# Convex Hull"
     ]
    },
    {
     "cell_type": "code",
     "collapsed": false,
     "input": [
      "class MyConvexHull(object):\n",
      "    \n",
      "    def __init__(self, res=None, eqs=None, points=None, facets=None):\n",
      "        self.res = res\n",
      "        self.eqs = eqs\n",
      "        self.points = points\n",
      "        self.facets = facets\n",
      "\n",
      "    @classmethod\n",
      "    def from_points(cls, points):\n",
      "        res = pyhull.qconvex('n i', points)\n",
      "        n_dim = int(res[0])-1\n",
      "        n_eqs = int(res[1])\n",
      "        eqs = array([line.split() for line in res[2:2+n_eqs]]).astype(float)\n",
      "        n_facets = int(res[2+n_eqs])\n",
      "        facets = array([line.split() for line in res[3+n_eqs:3+n_eqs+n_facets]]).astype(int)\n",
      "        return cls(res, eqs, points, facets)\n",
      "    \n",
      "    @classmethod\n",
      "    def from_halfspaces(cls, interior_point, halfspaces):\n",
      "        opt = 'H{:s} Fp'.format(string.join(array([0,0,0]).astype(str),','))\n",
      "        res = pyhull.qhull_cmd('qhalf', opt, halfspaces)\n",
      "        n_dim = int(res[0])\n",
      "        n_vert = int(res[1])\n",
      "        points = array([line.split() for line in res[2:2+n_vert]]).astype(float)\n",
      "        return cls.from_points(points)\n",
      "    \n",
      "    def add_buffer(self, b):\n",
      "        self.eqs[:,-1] -= b\n",
      "        interior_point = (self.points[0] + self.points[1])/2 # since convex \n",
      "        return MyConvexHull.from_halfspaces(interior_point, self.eqs)\n",
      "    \n",
      "    def __repr__(self):\n",
      "        return string.join(self.res, '\\n')\n",
      "    \n",
      "    def contains(self, p):\n",
      "        return False"
     ],
     "language": "python",
     "metadata": {},
     "outputs": [],
     "prompt_number": 216
    },
    {
     "cell_type": "code",
     "collapsed": false,
     "input": [
      "p = rand(10,2) - 0.5\n",
      "p = array(bmat([[p],[0.5*p + [0,1]] ,[0.2*p + [1,2]], [0.1*p + [2,2]]])).astype(float)\n",
      "\n",
      "ch1 = MyConvexHull.from_points(p)\n",
      "ch1 = ch1.add_buffer(0.1)\n",
      "plot(p[:,0], p[:,1], 'k.')\n",
      "for facet in ch1.facets:\n",
      "    plot(ch1.points[facet][:,0], ch1.points[facet][:,1], 'k')"
     ],
     "language": "python",
     "metadata": {},
     "outputs": [
      {
       "metadata": {},
       "output_type": "display_data",
       "png": "[encoded data removed]",
       "text": [
        "<matplotlib.figure.Figure at 0x351d890>"
       ]
      }
     ],
     "prompt_number": 217
    },
    {
     "cell_type": "code",
     "collapsed": false,
     "input": [],
     "language": "python",
     "metadata": {},
     "outputs": []
    }
   ],
   "metadata": {}
  }
 ]
}