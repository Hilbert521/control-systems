{
 "metadata": {
  "name": "",
  "signature": "sha256:80a4c432b09a4945562059baba3420ae4fe45d7bc934ba2fe254113cadc324f6"
 },
 "nbformat": 3,
 "nbformat_minor": 0,
 "worksheets": [
  {
   "cells": [
    {
     "cell_type": "code",
     "collapsed": false,
     "input": [
      "%pylab inline\n",
      "import control"
     ],
     "language": "python",
     "metadata": {},
     "outputs": [
      {
       "output_type": "stream",
       "stream": "stdout",
       "text": [
        "Populating the interactive namespace from numpy and matplotlib\n"
       ]
      }
     ],
     "prompt_number": 1
    },
    {
     "cell_type": "code",
     "collapsed": false,
     "input": [
      "A = array([[0, 1], [-1,-1]])\n",
      "B = array([[0], [1]])\n",
      "Ab = bmat([[A, zeros((2,2))], [zeros((2,2)), A]])\n",
      "Bb = bmat([[B],[zeros((2,1))]])\n",
      "Cb = array([\n",
      "[1, 0, -1, 0],\n",
      "[0, 1, 0, -1]])\n",
      "Db = bmat([[zeros((2,1))]])\n",
      "sys = control.ss(Ab, Bb, Cb, Db)\n",
      "sys"
     ],
     "language": "python",
     "metadata": {},
     "outputs": [
      {
       "metadata": {},
       "output_type": "pyout",
       "prompt_number": 2,
       "text": [
        "A = [[ 0.  1.  0.  0.]\n",
        " [-1. -1.  0.  0.]\n",
        " [ 0.  0.  0.  1.]\n",
        " [ 0.  0. -1. -1.]]\n",
        "\n",
        "B = [[ 0.]\n",
        " [ 1.]\n",
        " [ 0.]\n",
        " [ 0.]]\n",
        "\n",
        "C = [[ 1  0 -1  0]\n",
        " [ 0  1  0 -1]]\n",
        "\n",
        "D = [[ 0.]\n",
        " [ 0.]]"
       ]
      }
     ],
     "prompt_number": 2
    },
    {
     "cell_type": "code",
     "collapsed": false,
     "input": [
      "eig(A)"
     ],
     "language": "python",
     "metadata": {},
     "outputs": [
      {
       "metadata": {},
       "output_type": "pyout",
       "prompt_number": 3,
       "text": [
        "(array([-0.5+0.8660254j, -0.5-0.8660254j]),\n",
        " array([[ 0.70710678+0.j        ,  0.70710678-0.j        ],\n",
        "        [-0.35355339+0.61237244j, -0.35355339-0.61237244j]]))"
       ]
      }
     ],
     "prompt_number": 3
    },
    {
     "cell_type": "code",
     "collapsed": false,
     "input": [
      "%pylab inline\n",
      "import picos as pic\n",
      "import cvxopt as cvx\n",
      "import numpy as np\n",
      "import scipy.linalg\n",
      "import scipy.optimize\n",
      "import scipy.integrate\n",
      "def solve_bounded_disturbance(A, B, C, D):\n",
      "    \n",
      "    def solve_lmi(A_data, B_data, C_data, D_data, alpha, verbose=False):\n",
      "        sdp = pic.Problem()\n",
      "\n",
      "        # shape\n",
      "        n_x = A_data.shape[0]\n",
      "        n_u = B_data.shape[1]\n",
      "        \n",
      "        # variables\n",
      "        P = sdp.add_variable('P', (n_x, n_x), vtype='symmetric')\n",
      "        alpha = pic.new_param('alpha', alpha)\n",
      "        mu_1 = sdp.add_variable('mu_1')\n",
      "        mu_2 = sdp.add_variable('mu_2')\n",
      "\n",
      "        # parameters\n",
      "        A = pic.new_param('A', cvx.matrix(A_data))\n",
      "        B = pic.new_param('B', cvx.matrix(B_data))\n",
      "        C = pic.new_param('C', cvx.matrix(C_data))\n",
      "        D = pic.new_param('D', cvx.matrix(D_data))\n",
      "        I_n_u = pic.new_param('I', cvx.sparse(cvx.matrix(np.eye(n_u))))\n",
      "        I_n_x = pic.new_param('I', cvx.sparse(cvx.matrix(np.eye(n_x))))\n",
      "\n",
      "        eps = 1e-10\n",
      "        sdp.add_constraint(\n",
      "            (P*A + A.T*P + 2*alpha*P & P*B) //\n",
      "            (B.T*P &  -2*alpha*mu_1*I_n_u)  << -eps)\n",
      "        sdp.add_constraint(\n",
      "            (C.T*C - P & C.T*D) //\n",
      "            (D.T*C & D.T*D - mu_2*I_n_u)  << -eps)\n",
      "        sdp.add_constraint(P >> eps*I_n_x)\n",
      "        sdp.add_constraint(mu_1 >> eps)\n",
      "        sdp.add_constraint(mu_2 >> eps)\n",
      "        sdp.set_objective('min', mu_1 + mu_2)\n",
      "        try:\n",
      "            sdp.solve(verbose=verbose)\n",
      "            mu_1 =  sdp.variables['mu_1'].value[0,0]\n",
      "            mu_2 =  sdp.variables['mu_2'].value[0,0]\n",
      "            gamma = np.sqrt(mu_1 + mu_2)\n",
      "        except Exception as e:\n",
      "            print e\n",
      "            gamma = -1\n",
      "            \n",
      "        return gamma, sdp\n",
      "    \n",
      "    # we use fmin to solve a line search problem in alpha for minimum gamma\n",
      "    print('line search')\n",
      "    alpha_opt  = scipy.optimize.fmin(lambda alpha: solve_lmi(A, B, C, D, alpha)[0], x0=0.01)\n",
      "    \n",
      "    gamma, sdp = solve_lmi(A, B, C, D, alpha_opt)\n",
      "    print sdp\n",
      "    \n",
      "    if sdp.status == 'optimal':\n",
      "        P = sdp.variables['P'].value\n",
      "        mu_1 =  sdp.variables['mu_1'].value[0,0]\n",
      "        mu_2 =  sdp.variables['mu_2'].value[0,0]\n",
      "        print 'optimal alpha: ', alpha_opt\n",
      "        print 'gamma: ', gamma\n",
      "        print 'mu_1: ', mu_1\n",
      "        print 'mu_2: ', mu_2\n",
      "        print 'P: ',  P\n",
      "    else:\n",
      "        sdp = solve_lmi(A, B, C, D, alpha_opt, verbose=True)\n",
      "        raise RuntimeError('Optimization failed')\n",
      "        \n",
      "    return sdp, P, alpha_opt, gamma"
     ],
     "language": "python",
     "metadata": {},
     "outputs": [
      {
       "output_type": "stream",
       "stream": "stdout",
       "text": [
        "Populating the interactive namespace from numpy and matplotlib\n"
       ]
      },
      {
       "output_type": "stream",
       "stream": "stderr",
       "text": [
        "WARNING: pylab import has clobbered these variables: ['sys']\n",
        "`%matplotlib` prevents importing * from pylab and numpy\n"
       ]
      }
     ],
     "prompt_number": 4
    },
    {
     "cell_type": "code",
     "collapsed": false,
     "input": [
      "sdp, P, alpha_opt, gamma = solve_bounded_disturbance(Ab, Bb, Cb, Db)"
     ],
     "language": "python",
     "metadata": {},
     "outputs": [
      {
       "output_type": "stream",
       "stream": "stdout",
       "text": [
        "line search\n",
        "Optimization terminated successfully."
       ]
      },
      {
       "output_type": "stream",
       "stream": "stdout",
       "text": [
        "\n",
        "         Current function value: 1.687567\n",
        "         Iterations: 19\n",
        "         Function evaluations: 38\n",
        "---------------------\n",
        "optimization problem  (SDP):\n",
        "12 variables, 0 affine constraints, 42 vars in 5 SD cones\n",
        "\n",
        "P \t: (4, 4), symmetric\n",
        "mu_2 \t: (1, 1), continuous\n",
        "mu_1 \t: (1, 1), continuous\n",
        "\n",
        "\tminimize mu_1 + mu_2\n",
        "such that\n",
        "  [P*A + A.T*P + 2.0*alpha*P,P*B;B.T*P,( ( ( -2.0 )*alpha )*mu_1 )*I] \u227c |-1e-10|\n",
        "  [C.T*C -P,C.T*D;D.T*C,D.T*D -mu_2*I] \u227c |-1e-10|\n",
        "  P \u227d ( 1e-10 )*I\n",
        "  mu_1 \u227d 1e-10\n",
        "  mu_2 \u227d 1e-10\n",
        "---------------------\n",
        "optimal alpha:  [ 0.20525]\n",
        "gamma:  1.68756728644\n",
        "mu_1:  2.84788334289\n",
        "mu_2:  3.37668847134e-09\n",
        "P:  [ 1.21e+00  2.83e-01 -1.21e+00 -2.83e-01]\n",
        "[ 2.83e-01  1.38e+00 -2.83e-01 -1.38e+00]\n",
        "[-1.21e+00 -2.83e-01  5.55e+00  1.89e+00]\n",
        "[-2.83e-01 -1.38e+00  1.89e+00  5.02e+00]\n",
        "\n"
       ]
      }
     ],
     "prompt_number": 5
    },
    {
     "cell_type": "code",
     "collapsed": false,
     "input": [
      "x0 = array([1, 1, 0, 0]).T\n",
      "beta = x0.T.dot(P).dot(x0)\n",
      "beta, alpha_opt"
     ],
     "language": "python",
     "metadata": {},
     "outputs": [
      {
       "metadata": {},
       "output_type": "pyout",
       "prompt_number": 6,
       "text": [
        "(3.1556641988138474, array([ 0.20525]))"
       ]
      }
     ],
     "prompt_number": 6
    },
    {
     "cell_type": "code",
     "collapsed": false,
     "input": [
      "t = linspace(0,20)\n",
      "plot(t, beta*exp(-alpha_opt*t) + gamma)\n",
      "plot(t, -beta*exp(-alpha_opt*t) - gamma)"
     ],
     "language": "python",
     "metadata": {},
     "outputs": [
      {
       "metadata": {},
       "output_type": "pyout",
       "prompt_number": 7,
       "text": [
        "[<matplotlib.lines.Line2D at 0x3272650>]"
       ]
      },
      {
       "metadata": {},
       "output_type": "display_data",
       "png": "[encoded data removed]",
       "text": [
        "<matplotlib.figure.Figure at 0x32725d0>"
       ]
      }
     ],
     "prompt_number": 7
    },
    {
     "cell_type": "code",
     "collapsed": false,
     "input": [
      "from scipy.spatial import ConvexHull\n",
      "points = np.random.rand(30, 2)   # 30 random points in 2-D\n",
      "hull = ConvexHull(points)"
     ],
     "language": "python",
     "metadata": {},
     "outputs": [],
     "prompt_number": 8
    },
    {
     "cell_type": "code",
     "collapsed": false,
     "input": [
      "import matplotlib.pyplot as plt\n",
      "plt.plot(points[:,0], points[:,1], 'o')\n",
      "for simplex in hull.simplices:\n",
      "    plt.plot(points[simplex,0], points[simplex,1], 'k-')\n",
      "    print points[simplex,0], points[simplex,1]"
     ],
     "language": "python",
     "metadata": {},
     "outputs": [
      {
       "output_type": "stream",
       "stream": "stdout",
       "text": [
        "[ 0.9550465   0.96939342] [ 0.21519798  0.70108707]\n",
        "[ 0.0505822   0.04173112] [ 0.7143771   0.16706121]\n",
        "[ 0.61139933  0.96939342] [ 0.90589584  0.70108707]\n",
        "[ 0.61139933  0.21829998] [ 0.90589584  0.97976009]\n",
        "[ 0.04382533  0.04173112] [ 0.01309979  0.16706121]\n",
        "[ 0.17397176  0.21829998] [ 0.95257979  0.97976009]\n",
        "[ 0.17397176  0.0505822 ] [ 0.95257979  0.7143771 ]\n",
        "[ 0.91874027  0.9550465 ] [ 0.19954217  0.21519798]\n",
        "[ 0.91874027  0.04382533] [ 0.19954217  0.01309979]\n"
       ]
      },
      {
       "metadata": {},
       "output_type": "display_data",
       "png": "[encoded data removed]",
       "text": [
        "<matplotlib.figure.Figure at 0x4a7da10>"
       ]
      }
     ],
     "prompt_number": 9
    },
    {
     "cell_type": "code",
     "collapsed": false,
     "input": [
      "plt.plot(points[:,0], points[:,1], 'o')\n",
      "for simplex in hull.simplices:\n",
      "    plt.plot(points[simplex,0], points[simplex,1], 'k-')\n",
      "    print points[simplex,0], points[simplex,1]"
     ],
     "language": "python",
     "metadata": {},
     "outputs": [
      {
       "output_type": "stream",
       "stream": "stdout",
       "text": [
        "[ 0.9550465   0.96939342] [ 0.21519798  0.70108707]\n",
        "[ 0.0505822   0.04173112] [ 0.7143771   0.16706121]\n",
        "[ 0.61139933  0.96939342] [ 0.90589584  0.70108707]\n",
        "[ 0.61139933  0.21829998] [ 0.90589584  0.97976009]\n",
        "[ 0.04382533  0.04173112] [ 0.01309979  0.16706121]\n",
        "[ 0.17397176  0.21829998] [ 0.95257979  0.97976009]\n",
        "[ 0.17397176  0.0505822 ] [ 0.95257979  0.7143771 ]\n",
        "[ 0.91874027  0.9550465 ] [ 0.19954217  0.21519798]\n",
        "[ 0.91874027  0.04382533] [ 0.19954217  0.01309979]\n"
       ]
      },
      {
       "metadata": {},
       "output_type": "display_data",
       "png": "[encoded data removed]",
       "text": [
        "<matplotlib.figure.Figure at 0x4c6bb90>"
       ]
      }
     ],
     "prompt_number": 11
    },
    {
     "cell_type": "code",
     "collapsed": false,
     "input": [
      "import pyhull"
     ],
     "language": "python",
     "metadata": {},
     "outputs": [],
     "prompt_number": 103
    },
    {
     "cell_type": "code",
     "collapsed": false,
     "input": [
      "p = rand(5,2)\n",
      "res = pyhull.qconvex(options='n i', points=p)\n",
      "print res\n",
      "\n",
      "class ConvexHull(object):\n",
      "    \n",
      "    def __init__(self, points):\n",
      "  \n",
      "        p = rand(5,2)\n",
      "        res = pyhull.qconvex(options='n i', points=p)\n",
      "\n",
      "\n",
      "        n_dim=int(res[0])\n",
      "        n_eq=int(res[1])\n",
      "        eq = array([line.split(' ') for line in res[2:2+n_eq]]).astype(float)\n",
      "        n_vert=int(res[2+n_eq])\n",
      "        vert = array([line.split(' ') for line in res[3+n_eq:3+n_eq+n_vert]]).astype(float)\n",
      "        \n",
      "        self.n_dim = n_dim\n",
      "        self.n_eq = n_eq\n",
      "        self.eq = eq\n",
      "        self.n_vert = n_vert\n",
      "        self.vert = vert\n",
      "\n",
      "    def __str__(self):\n",
      "        print 'n_dim', self.n_dim\n",
      "        print 'n_eq', self.n_eq\n",
      "        print 'eq', self.eq\n",
      "        print 'n_vert', self.n_vert\n",
      "        print 'vert', self.vert\n",
      "\n",
      "ch = ConvexHull(rand(3,20))\n",
      "print ch\n",
      "plot(p,'.')\n",
      "plot()"
     ],
     "language": "python",
     "metadata": {},
     "outputs": [
      {
       "output_type": "stream",
       "stream": "stdout",
       "text": [
        " ['3', '5', '0.9497331053165562 0.3130607427733013 -0.933885274737758', '-0.5101661397030681 -0.860075874502052 0.4055547895823556', '0.4786448256112555 -0.8780086166522347 -0.3332174614341032', '-0.7368113583457734 0.6760983820515003 0.0811481767401645', '-0.3743686050049911 0.9272799726008412 -0.2255036187252257', '5', '1 3', '2 4', '4 1', '0 2', '3 0']\n",
        "n_dim 3\n",
        "n_eq 5\n",
        "eq [[-0.03500044  0.9993873  -0.59081239]\n",
        " [ 0.98445318 -0.17564722 -0.77348536]\n",
        " [ 0.4596627  -0.88809358  0.04610681]\n",
        " [-0.83165214 -0.55529697  0.33438413]\n",
        " [-0.68246463 -0.73091862  0.40820003]]\n",
        "n_vert 5\n",
        "vert [[ 1.  2.]\n",
        " [ 0.  1.]\n",
        " [ 3.  0.]\n",
        " [ 2.  4.]\n",
        " [ 4.  3.]]\n"
       ]
      },
      {
       "ename": "TypeError",
       "evalue": "__str__ returned non-string (type NoneType)",
       "output_type": "pyerr",
       "traceback": [
        "\u001b[1;31m---------------------------------------------------------------------------\u001b[0m\n\u001b[1;31mTypeError\u001b[0m                                 Traceback (most recent call last)",
        "\u001b[1;32m<ipython-input-170-93b721eb1a99>\u001b[0m in \u001b[0;36m<module>\u001b[1;34m()\u001b[0m\n\u001b[0;32m     31\u001b[0m \u001b[1;33m\u001b[0m\u001b[0m\n\u001b[0;32m     32\u001b[0m \u001b[0mch\u001b[0m \u001b[1;33m=\u001b[0m \u001b[0mConvexHull\u001b[0m\u001b[1;33m(\u001b[0m\u001b[0mrand\u001b[0m\u001b[1;33m(\u001b[0m\u001b[1;36m3\u001b[0m\u001b[1;33m,\u001b[0m\u001b[1;36m20\u001b[0m\u001b[1;33m)\u001b[0m\u001b[1;33m)\u001b[0m\u001b[1;33m\u001b[0m\u001b[0m\n\u001b[1;32m---> 33\u001b[1;33m \u001b[1;32mprint\u001b[0m \u001b[0mch\u001b[0m\u001b[1;33m\u001b[0m\u001b[0m\n\u001b[0m\u001b[0;32m     34\u001b[0m \u001b[0mplot\u001b[0m\u001b[1;33m(\u001b[0m\u001b[0mp\u001b[0m\u001b[1;33m,\u001b[0m\u001b[1;34m'.'\u001b[0m\u001b[1;33m)\u001b[0m\u001b[1;33m\u001b[0m\u001b[0m\n\u001b[0;32m     35\u001b[0m \u001b[0mplot\u001b[0m\u001b[1;33m(\u001b[0m\u001b[1;33m)\u001b[0m\u001b[1;33m\u001b[0m\u001b[0m\n",
        "\u001b[1;31mTypeError\u001b[0m: __str__ returned non-string (type NoneType)"
       ]
      }
     ],
     "prompt_number": 170
    },
    {
     "cell_type": "code",
     "collapsed": false,
     "input": [],
     "language": "python",
     "metadata": {},
     "outputs": []
    }
   ],
   "metadata": {}
  }
 ]
}