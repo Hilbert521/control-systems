{
 "metadata": {
  "name": "",
  "signature": "sha256:11262f2e555bc38bd261e6a83b737ff52199a10096a55a85e655a397ca02d97d"
 },
 "nbformat": 3,
 "nbformat_minor": 0,
 "worksheets": [
  {
   "cells": [
    {
     "cell_type": "code",
     "collapsed": false,
     "input": [
      "%pylab inline\n",
      "import control\n",
      "import scipy.integrate\n",
      "import sympy\n",
      "import sympy.physics.mechanics as mech\n",
      "sympy.init_printing()"
     ],
     "language": "python",
     "metadata": {},
     "outputs": [
      {
       "output_type": "stream",
       "stream": "stdout",
       "text": [
        "Populating the interactive namespace from numpy and matplotlib\n"
       ]
      },
      {
       "output_type": "stream",
       "stream": "stderr",
       "text": [
        "WARNING: pylab import has clobbered these variables: ['f']\n",
        "`%matplotlib` prevents importing * from pylab and numpy\n"
       ]
      }
     ],
     "prompt_number": 264
    },
    {
     "cell_type": "code",
     "collapsed": false,
     "input": [
      "def derive_eoms(c_dict):\n",
      "    # variables\n",
      "    theta, m, g, J, t, l, T = sympy.symbols('theta, m, g, J, t, l, T')\n",
      "\n",
      "    # frames\n",
      "    frame_e = mech.ReferenceFrame('e')\n",
      "    frame_b = frame_e.orientnew('b', 'Axis', (theta(t), frame_e.y))\n",
      "\n",
      "    # point p at axle\n",
      "    point_p = mech.Point('p')\n",
      "    point_p.set_vel(frame_e, 0)\n",
      "\n",
      "    # center of mass\n",
      "    point_cm = point_p.locatenew('cm', -l*frame_b.z)\n",
      "    point_cm.set_vel(frame_b, 0)\n",
      "    point_cm.v1pt_theory(otherpoint=point_p, outframe=frame_e, interframe=frame_b)\n",
      "\n",
      "    # rigid body\n",
      "    body_pend = mech.RigidBody(\n",
      "        name='pend',\n",
      "        masscenter=point_p,\n",
      "        frame=frame_b,\n",
      "        mass=m,\n",
      "        inertia=(mech.inertia(frame_b, ixx=0, iyy=J, izz=0), point_p))\n",
      "\n",
      "    # lagrangian\n",
      "    L = mech.Lagrangian(frame_e, body_pend)\n",
      "\n",
      "    # lagranges method\n",
      "    lm = mech.LagrangesMethod(\n",
      "        Lagrangian=L,\n",
      "        q_list=[theta(t)],\n",
      "        coneqs=None,\n",
      "        forcelist= [(point_cm, m*g*frame_e.z), (frame_b, T(t)*frame_b.y)],\n",
      "        frame=frame_e)\n",
      "    lm.form_lagranges_equations()\n",
      "    rhs = lm.rhs()\n",
      "\n",
      "    x = sympy.DeferredVector('x')\n",
      "    u = sympy.DeferredVector('u')  \n",
      "    x_dict = {theta(t).diff(t):x[1],theta(t):x[0]}\n",
      "    u_dict = {T(t):u[0]}\n",
      "    f_sim = sympy.lambdify((t,x,u), rhs.subs(x_dict).subs(u_dict).subs(c_dict))\n",
      "    x_vect = [theta(t), theta(t).diff(t)]\n",
      "    u_vect = [T(t)]\n",
      "    return f_sim, rhs.jacobian(x_vect).subs(c_dict), rhs.jacobian(u_vect).subs(c_dict), rhs"
     ],
     "language": "python",
     "metadata": {},
     "outputs": [],
     "prompt_number": 265
    },
    {
     "cell_type": "code",
     "collapsed": false,
     "input": [
      "def linearize_eoms(A_sym, B_sym, x0):\n",
      "    theta, t = sympy.symbols('theta, t')\n",
      "    A = array(A_sym.subs(theta(t), x0[0])).astype(float)\n",
      "    B = array(B_sym.subs(theta(t), x0[0])).astype(float)\n",
      "    return A, B"
     ],
     "language": "python",
     "metadata": {},
     "outputs": [],
     "prompt_number": 266
    },
    {
     "cell_type": "code",
     "collapsed": false,
     "input": [
      "def f_cont_lqr(x, K, u_max=10):\n",
      "    return -K.dot(x)"
     ],
     "language": "python",
     "metadata": {},
     "outputs": [],
     "prompt_number": 267
    },
    {
     "cell_type": "code",
     "collapsed": false,
     "input": [
      "matrix(1)"
     ],
     "language": "python",
     "metadata": {},
     "outputs": [
      {
       "metadata": {},
       "output_type": "pyout",
       "prompt_number": 268,
       "text": [
        "matrix([[1]])"
       ]
      }
     ],
     "prompt_number": 268
    },
    {
     "cell_type": "code",
     "collapsed": false,
     "input": [
      "def derive_dyn_inv_contr(zeta = 0.7, wn=5):\n",
      "    theta, t, T = sympy.symbols('theta, t, T')\n",
      "    theta_ddot_des = -2*zeta*wn*theta(t).diff(t) - wn**2*theta(t)\n",
      "    theta_ddot = rhs[1]\n",
      "    expr = sympy.solve(theta_ddot_des - theta_ddot, T(t))[0].subs(c_dict)\n",
      "    x = sympy.DeferredVector('x')\n",
      "    u = sympy.DeferredVector('u')  \n",
      "    x_dict = {theta(t).diff(t):x[1],theta(t):x[0]}\n",
      "    return sympy.lambdify(x, sympy.Matrix([expr.subs(x_dict)])), expr"
     ],
     "language": "python",
     "metadata": {},
     "outputs": [],
     "prompt_number": 269
    },
    {
     "cell_type": "code",
     "collapsed": false,
     "input": [
      "def sim_trajectory(f_sim, f_cont, t, x0, u_max):\n",
      "    sim = scipy.integrate.ode(f_sim)\n",
      "    n_t = len(t)\n",
      "    n_x = len(x0)\n",
      "    sim.set_initial_value(y=x0, t=t[0])\n",
      "    y = zeros((n_t, len(x0)))\n",
      "    y[0,:] = x0\n",
      "    for i in range(1, len(t)):\n",
      "        u = f_cont(sim.y)\n",
      "        if (abs(u) > u_max):\n",
      "            u = sign(u)*u_max\n",
      "        sim.set_f_params(u)\n",
      "        sim.integrate(t[i])\n",
      "        while sim.y[0] > pi:\n",
      "            sim.y[0] -= 2*pi\n",
      "        while sim.y[0] < -pi:\n",
      "            sim.y[0] += 2*pi\n",
      "        if not sim.successful():\n",
      "            break\n",
      "        y[i,:] = sim.y.T\n",
      "    return y"
     ],
     "language": "python",
     "metadata": {},
     "outputs": [],
     "prompt_number": 270
    },
    {
     "cell_type": "code",
     "collapsed": false,
     "input": [
      "def sim_x0_box(f_cont, *args, **kwargs):\n",
      "    t = arange(0, 10, 0.02)\n",
      "    u_max = 10\n",
      "    n_x0 = 5 # number of initial conditions per dimension\n",
      "    d = pi # size of box\n",
      "    x0_list = array([[i, j] for i in linspace(-d, d, n_x0) for j in linspace(-d, d, n_x0)])\n",
      "    y = zeros((len(x0_list), len(t), len(x0_list[0])))\n",
      "    hold(True)\n",
      "    for i in range(len(x0_list)):\n",
      "        y[i,:,:] = sim_trajectory(f_sim, f_cont, t, x0_list[i,:], u_max)\n",
      "        h = plot(rad2deg(y[i,:,0]), rad2deg(y[i,:,1]), *args, **kwargs)\n",
      "    h_x0 = plot(rad2deg(x0_list[:,0]), rad2deg(x0_list[:,1]),'ro')\n",
      "    xlabel('$\\\\theta$, deg')\n",
      "    ylabel('$\\dot{\\\\theta}$, deg/s')\n",
      "    return h, h_x0"
     ],
     "language": "python",
     "metadata": {},
     "outputs": [],
     "prompt_number": 271
    },
    {
     "cell_type": "code",
     "collapsed": false,
     "input": [
      "# dynamics\n",
      "c_dict = {'m':1, 'J':1, 'g':9.8, 'l':1}\n",
      "f_sim, A_sym, B_sym, rhs = derive_eoms(c_dict)\n",
      "\n",
      "# lqr control\n",
      "A, B = linearize_eoms(A_sym, B_sym, [0,0])\n",
      "K = control.care(A, B, eye(2))[2]\n",
      "ss_closed = control.ss(A, B, eye(2), zeros((2,1)))\n",
      "\n",
      "# use same speed as lqr for dyn. inv.\n",
      "wn_closed = ss_closed.damp()[0][0]\n",
      "zeta_closed = ss_closed.damp()[1][0]\n",
      "f_dyn_inv, dyn_inv_expr = derive_dyn_inv_contr(zeta=zeta_closed, wn=wn_closed)\n",
      "\n",
      "# plot\n",
      "figure(figsize(15,5))\n",
      "h_cont, h_x0 = sim_x0_box(lambda x: f_cont_lqr(x, K), 'k.', markersize=3)\n",
      "h_di, h_x0 = sim_x0_box(lambda x: f_dyn_inv(x), 'g.', markersize=3)\n",
      "legend([h_cont[0], h_di[0], h_x0[0]], ['lqr', 'dyn inv', 'x0'])\n",
      "title('comparison of lqr and dynamic inversion control')"
     ],
     "language": "python",
     "metadata": {},
     "outputs": [
      {
       "metadata": {},
       "output_type": "pyout",
       "prompt_number": 272,
       "text": [
        "<matplotlib.text.Text at 0xc2012d0>"
       ]
      },
      {
       "metadata": {},
       "output_type": "display_data",
       "png": "[encoded data removed]",
       "text": [
        "<matplotlib.figure.Figure at 0xb7f8e50>"
       ]
      }
     ],
     "prompt_number": 272
    }
   ],
   "metadata": {}
  }
 ]
}